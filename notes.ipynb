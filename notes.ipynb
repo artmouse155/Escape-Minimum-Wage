{
 "cells": [
  {
   "cell_type": "markdown",
   "id": "09127d88",
   "metadata": {},
   "source": [
    "## Escape Minimum Wage\n",
    "\n",
    "- Throw your resume at potential employers to get a better and better job\n",
    "- UPGRADES\n",
    "  - Resume Tier: _Impact your resume leaves_\n",
    "    - Scented Paper, Textured Paper, Bronze, Silver, Gold, Diamond\n",
    "  - Networking: _# of resumes you throw_\n",
    "    - 2, 4, 8, 16, 32, 64\n",
    "  - Company Research:\n",
    "    - \n",
    "- \n",
    "- POWERUPS\n",
    "- ⌛ Overtime\n",
    "  - Get paid 5 times (base) for 30 seconds\n",
    "- 🎪 Career Fair\n",
    "  - 3x enemy spawns (base) for 30 seconds\n",
    "\n",
    "- STATS PAGE\n",
    "  - Formatted like an actual resume!\n",
    "    - EXPERIENCE\n",
    "      - Sewage worker (x42)\n",
    "      - Master Plumber (x3)\n",
    "\n",
    "- DAMAGE\n",
    "  - If the employers touch you...\n",
    "\n",
    "- EXP\n",
    "  - Your experience level is determined by your salary\n",
    "    - Start at $7.25/hr as a Swig worker\n",
    "    - You win by making $1,000,000/hr (Level 30)\n",
    "    - Every \n",
    "\n",
    "- ENEMIES\n",
    "  - Recruiters - common\n",
    "  - Executive Recruiters - uncommon\n",
    "  - Entrepreneur - rare\n",
    "  - CEO - final boss"
   ]
  },
  {
   "cell_type": "markdown",
   "id": "cb4ee369",
   "metadata": {},
   "source": [
    "### Game Ideas\n",
    "- Infinite runner, escape school, 2d runner\n",
    "- Escape a jail\n",
    "- Escape room\n",
    "- Learning Italian (Es Cap Pay)\n",
    "- 3d escape backrooms school thing\n",
    "- Escape your mind\n",
    "- Vacation (escape as in a getaway 😎)\n",
    "- Escape the police?\n",
    "- Escape from a painting to a browser to a youtube thumbnail to a desktop to a paint program etc.\n",
    "- Cookie clicker but it's the escape key\n",
    "- Escape from Pelican Rock\n",
    "- escape the MARB\n",
    "- escape the party - a horror game for introverts\n",
    "- escape a hole? jumping forever\n",
    "- escape a youtube video (studio c?) you can pause the game as the player and take items that the people are holding\n",
    "- escape responsibilities - a game about lying to your parents\n",
    "- Electronic Speed Control Ape - You play as an ape who has to control the speed of a car. Your nickname is ESC Ape.\n",
    "- Classic \"Breakout\" game, but its a city game like BTD City.\n",
    "- Play as a comms operator of a criminal group trying to break their friend out of prison. You don't actually go anywhere during the game, you just sit in a chair and call people over the walkie talkie. You choose what to say, and if you choose wrong, everything goes wrong. Many endings!\n",
    "- ESCAPE MINIMUM WAGE - press space to throw your resume at enemies... er... I mean potential employers. As you get offers, level up your resume to be higher quality to get more pay raises, to do more damage.... i mean leave more of an impact, and let you tackle corporate bosses who come. 2D, simple artstyle.\n",
    "- Sabotage the Deli"
   ]
  }
 ],
 "metadata": {
  "language_info": {
   "name": "python"
  }
 },
 "nbformat": 4,
 "nbformat_minor": 5
}
